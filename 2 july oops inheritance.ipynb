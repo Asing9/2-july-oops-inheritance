{
 "cells": [
  {
   "cell_type": "code",
   "execution_count": null,
   "id": "f6af572e",
   "metadata": {},
   "outputs": [],
   "source": [
    "1. Explain what inheritance is in object-oriented programming and why it is used."
   ]
  },
  {
   "cell_type": "code",
   "execution_count": null,
   "id": "10f8f455",
   "metadata": {},
   "outputs": [],
   "source": [
    "inheritance is allow us to reuse of code attribute and method"
   ]
  },
  {
   "cell_type": "code",
   "execution_count": null,
   "id": "e5b01c74",
   "metadata": {},
   "outputs": [],
   "source": [
    "2. Discuss the concept of single inheritance and multiple inheritance, highlighting their\n",
    "differences and advantages."
   ]
  },
  {
   "cell_type": "code",
   "execution_count": null,
   "id": "33947c0b",
   "metadata": {},
   "outputs": [],
   "source": [
    "single inheritance :- one class is inherits from only one parent class it is called simple inheritance "
   ]
  },
  {
   "cell_type": "code",
   "execution_count": null,
   "id": "60b646c1",
   "metadata": {},
   "outputs": [],
   "source": [
    "multiple inheritance:- Multiple inheritance allows us to build up a class by inheriting from many classes.\n",
    "    in multiple inheritance one class inherits from another class which inherit from another class and so on"
   ]
  },
  {
   "cell_type": "code",
   "execution_count": null,
   "id": "87c60f08",
   "metadata": {},
   "outputs": [],
   "source": [
    "3. Explain the terms \"base class\" and \"derived class\" in the context of inheritance."
   ]
  },
  {
   "cell_type": "code",
   "execution_count": null,
   "id": "b81987ca",
   "metadata": {},
   "outputs": [],
   "source": [
    "a base class is which other class derived also known as parent class"
   ]
  },
  {
   "cell_type": "code",
   "execution_count": null,
   "id": "9e7bde20",
   "metadata": {},
   "outputs": [],
   "source": [
    "derived class inherit all members and functions from base class derived class have more functionality than base class derived\n",
    "class also known as child class"
   ]
  },
  {
   "cell_type": "code",
   "execution_count": null,
   "id": "29639142",
   "metadata": {},
   "outputs": [],
   "source": [
    "4. What is the significance of the \"protected\" access modifier in inheritance? How does\n",
    "it differ from \"private\" and \"public\" modifiers?"
   ]
  },
  {
   "cell_type": "code",
   "execution_count": null,
   "id": "1f411f0f",
   "metadata": {},
   "outputs": [],
   "source": [
    "public :- member or function from this class are easily assessible form any part of program , all function and members are\n",
    "    public by default"
   ]
  },
  {
   "cell_type": "code",
   "execution_count": null,
   "id": "0a7d13b2",
   "metadata": {},
   "outputs": [],
   "source": [
    "private:-private members are accessible only within class only it is declared private by adding double underscore'__'symbol\n",
    "    before "
   ]
  },
  {
   "cell_type": "code",
   "execution_count": null,
   "id": "859e4980",
   "metadata": {},
   "outputs": [],
   "source": [
    "protected:- member or function declared protected by adding a single underscore'_' , it is accessible to class derived from it"
   ]
  },
  {
   "cell_type": "code",
   "execution_count": null,
   "id": "e0b3df9c",
   "metadata": {},
   "outputs": [],
   "source": [
    "    "
   ]
  },
  {
   "cell_type": "code",
   "execution_count": null,
   "id": "7cb5235e",
   "metadata": {},
   "outputs": [],
   "source": [
    "5. What is the purpose of the \"super\" keyword in inheritance? Provide an example."
   ]
  },
  {
   "cell_type": "code",
   "execution_count": null,
   "id": "a537c3f8",
   "metadata": {},
   "outputs": [],
   "source": [
    " method from a parent class can be called in Python using the super() function.\n",
    "    calling super() allows you to access and use the parent class’s methods."
   ]
  },
  {
   "cell_type": "code",
   "execution_count": 6,
   "id": "4d6f5ddb",
   "metadata": {},
   "outputs": [
    {
     "name": "stdout",
     "output_type": "stream",
     "text": [
      "ID: 1\n",
      "Name: Jai\n",
      "Add: EMP1ADD\n"
     ]
    }
   ],
   "source": [
    "class emp:\n",
    "    def __init__(self,id,name):\n",
    "        self.id=id\n",
    "        self.name=name\n",
    "        \n",
    "class school(emp):\n",
    "    def __init__(self,id,name,add):\n",
    "        super().__init__(id,name)\n",
    "        self.add=add\n",
    "        \n",
    "emp1=school(1,\"Jai\",\"EMP1ADD\")\n",
    "print(\"ID:\",emp1.id)\n",
    "print(\"Name:\",emp1.name)\n",
    "print(\"Add:\",emp1.add)\n"
   ]
  },
  {
   "cell_type": "code",
   "execution_count": null,
   "id": "899f7109",
   "metadata": {},
   "outputs": [],
   "source": [
    "6. Create a base class called \"Vehicle\" with attributes like \"make\", \"model\", and \"year\".\n",
    "Then, create a derived class called \"Car\" that inherits from \"Vehicle\" and adds an\n",
    "attribute called \"fuel_type\". Implement appropriate methods in both classes."
   ]
  },
  {
   "cell_type": "code",
   "execution_count": 12,
   "id": "b4cb8c66",
   "metadata": {},
   "outputs": [
    {
     "name": "stdout",
     "output_type": "stream",
     "text": [
      "make is Maruti modle is swift,year 2020 fuel type CNG\n"
     ]
    }
   ],
   "source": [
    "class Vehicle:\n",
    "    def __init__(self, make, model, year):\n",
    "        self.make = make\n",
    "        self.model = model\n",
    "        self.year = year\n",
    "\n",
    "\n",
    "class Car(Vehicle):\n",
    "\n",
    "    def __init__(self, fuel,make,model,year):\n",
    "        super().__init__(make,model,year)\n",
    "        self.fuel = fuel\n",
    "        \n",
    "\n",
    "\n",
    "c1=Car(\"CNG\",\"Maruti\",\"swift\",2020)\n",
    "print(f\"make is {c1.make} modle is {c1.model},year {c1.year} fuel type {c1.fuel}\")\n",
    "\n",
    "\n",
    "\n",
    "\n"
   ]
  },
  {
   "cell_type": "code",
   "execution_count": null,
   "id": "497cd744",
   "metadata": {},
   "outputs": [],
   "source": []
  },
  {
   "cell_type": "code",
   "execution_count": null,
   "id": "9ee3a27b",
   "metadata": {},
   "outputs": [],
   "source": [
    "7. Create a base class called \"Employee\" with attributes like \"name\" and \"salary.\"\n",
    "Derive two classes, \"Manager\" and \"Developer,\" from \"Employee.\" Add an additional\n",
    "attribute called \"department\" for the \"Manager\" class and \"programming_language\"\n",
    "for the \"Developer\" class."
   ]
  },
  {
   "cell_type": "code",
   "execution_count": 22,
   "id": "814fdd18",
   "metadata": {},
   "outputs": [
    {
     "name": "stdout",
     "output_type": "stream",
     "text": [
      "Name :Gaurav and salary :10000\n",
      "department is: Structure , manager name:Vijay ,salary:5000 \n",
      "name:Rawat, slaary :6000,programming language :python\n"
     ]
    }
   ],
   "source": [
    "class Employee:\n",
    "    def __init__(self, name, salary):\n",
    "        self.name=name\n",
    "        self.salary=salary\n",
    "\n",
    "class Manager(Employee):\n",
    "    def __init__(self,name, salary,department):\n",
    "        super().__init__(name, salary)\n",
    "        self.department=department\n",
    "        \n",
    "class Developer(Employee):\n",
    "    def __init__(self,name, salary,pl):\n",
    "        super().__init__(name, salary)\n",
    "        self.pl=pl\n",
    "        \n",
    "e1=Employee('Gaurav',10000)\n",
    "print(f\"Name :{e1.name} and salary :{e1.salary}\")\n",
    "\n",
    "m1=Manager(\"Vijay\",5000,\"Structure\")\n",
    "print(f\"department is: {m1.department} , manager name:{m1.name} ,salary:{m1.salary} \")\n",
    "\n",
    "d1=Developer('Rawat','6000','python')\n",
    "print(f\"name:{d1.name}, slaary :{d1.salary},programming language :{d1.pl}\")\n",
    "\n",
    "\n",
    "        \n",
    "        "
   ]
  },
  {
   "cell_type": "code",
   "execution_count": null,
   "id": "662429d6",
   "metadata": {},
   "outputs": [],
   "source": []
  },
  {
   "cell_type": "code",
   "execution_count": null,
   "id": "b5c204dc",
   "metadata": {},
   "outputs": [],
   "source": [
    "8. Design a base class called \"Shape\" with attributes like \"colour\" and \"border_width.\"\n",
    "Create derived classes, \"Rectangle\" and \"Circle,\" that inherit from \"Shape\" and add\n",
    "specific attributes like \"length\" and \"width\" for the \"Rectangle\" class and \"radius\" for\n",
    "the \"Circle\" class."
   ]
  },
  {
   "cell_type": "code",
   "execution_count": 28,
   "id": "960006ea",
   "metadata": {},
   "outputs": [
    {
     "name": "stdout",
     "output_type": "stream",
     "text": [
      "black 1\n",
      "length:3, width:2, colour:red,borderwidth:5\n",
      "radius 10,colour :pink, borderwidth:2\n"
     ]
    }
   ],
   "source": [
    "class Shape:\n",
    "    def __init__(self,colour, bw):\n",
    "        self.colour=colour\n",
    "        self.bw=bw\n",
    "        \n",
    "class Rectangle(Shape):\n",
    "    def __init__(self,l,w,colour,bw):\n",
    "        super().__init__(colour,bw)\n",
    "        self.length=l\n",
    "        self.width=w\n",
    "    \n",
    "class Circle(Shape):\n",
    "    def __init__(self,r,colour,bw):\n",
    "        super().__init__(colour,bw)\n",
    "        self.radius=r\n",
    "        \n",
    "s1=Shape('black',1)\n",
    "print(f\"{s1.colour} {s1.bw}\")\n",
    "\n",
    "r1=Rectangle(3,2,\"red\",5)\n",
    "print(f\"length:{r1.length}, width:{r1.width}, colour:{r1.colour},borderwidth:{r1.bw}\")\n",
    "\n",
    "c1=Circle(10,'pink',2)\n",
    "print(f\"radius {c1.radius},colour :{c1.colour}, borderwidth:{c1.bw}\")\n",
    "    \n",
    "    "
   ]
  },
  {
   "cell_type": "code",
   "execution_count": null,
   "id": "bc201d29",
   "metadata": {},
   "outputs": [],
   "source": []
  },
  {
   "cell_type": "code",
   "execution_count": null,
   "id": "2eb48840",
   "metadata": {},
   "outputs": [],
   "source": [
    "9. Create a base class called \"Device\" with attributes like \"brand\" and \"model.\" Derive\n",
    "two classes, \"Phone\" and \"Tablet,\" from \"Device.\" Add specific attributes like\n",
    "\"screen_size\" for the \"Phone\" class and \"battery_capacity\" for the \"Tablet\" class."
   ]
  },
  {
   "cell_type": "code",
   "execution_count": 35,
   "id": "93d1c92b",
   "metadata": {},
   "outputs": [
    {
     "name": "stdout",
     "output_type": "stream",
     "text": [
      "Brand:apple, Model:I14\n",
      "screensize:6,brand:apple,model:I14\n",
      "brand:apple,model:I14,baterysize:5000\n"
     ]
    }
   ],
   "source": [
    "class Device:\n",
    "    def __init__(self, brand, model):\n",
    "        self.brand=brand\n",
    "        self.model=model\n",
    "        \n",
    "class Phone(Device):\n",
    "    def __init__(self,sz):\n",
    "        \n",
    "        self.screen_size=sz\n",
    "    \n",
    "class Tablet(Device):\n",
    "    def __init__(self,by):\n",
    "        self.battery_capacity=by\n",
    "        \n",
    "        \n",
    "        \n",
    "d1=Device(\"apple\",\"I14\")\n",
    "print(f\"Brand:{d1.brand}, Model:{d1.model}\")\n",
    "\n",
    "p1=Phone(\"6\")\n",
    "print(f\"screensize:{p1.screen_size},brand:{d1.brand},model:{d1.model}\")\n",
    "\n",
    "t1=Tablet(\"5000\")\n",
    "print(f\"brand:{d1.brand},model:{d1.model},baterysize:{t1.battery_capacity}\")"
   ]
  },
  {
   "cell_type": "code",
   "execution_count": null,
   "id": "5f86d4b8",
   "metadata": {},
   "outputs": [],
   "source": []
  },
  {
   "cell_type": "code",
   "execution_count": null,
   "id": "c91fad50",
   "metadata": {},
   "outputs": [],
   "source": [
    "10. Create a base class called \"BankAccount\" with attributes like \"account_number\" and\n",
    "\"balance.\" Derive two classes, \"SavingsAccount\" and \"CheckingAccount,\" from\n",
    "\"BankAccount.\" Add specific methods like \"calculate_interest\" for the\n",
    "\"SavingsAccount\" class and \"deduct_fees\" for the \"CheckingAccount\" class."
   ]
  },
  {
   "cell_type": "code",
   "execution_count": 48,
   "id": "a29bdba3",
   "metadata": {},
   "outputs": [
    {
     "name": "stdout",
     "output_type": "stream",
     "text": [
      "account number :1 and banalce :1000\n",
      "Interest is :  40.0\n",
      "deductible fees every year: 100\n"
     ]
    }
   ],
   "source": [
    "class BankAccount:\n",
    "    def __init__(self,an,b):\n",
    "        self.account_number=an\n",
    "        self.balance=b\n",
    "        \n",
    "class SavingsAccount(BankAccount):\n",
    "    def __init__(self,b):\n",
    "        self.balance=b\n",
    "        \n",
    "        ci=self.balance*4/100\n",
    "        print(\"Interest is : \",ci)\n",
    "    \n",
    "class CheckingAccount(BankAccount):\n",
    "    def __init__(self):\n",
    "        \n",
    "        df=100\n",
    "        print(\"deductible fees every year:\",df)\n",
    "        \n",
    "b1=BankAccount(1,1000)\n",
    "print(f\"account number :{b1.account_number} and banalce :{b1.balance}\")\n",
    "\n",
    "s1=SavingsAccount(b1.balance)\n",
    "c1=CheckingAccount()\n",
    "    "
   ]
  },
  {
   "cell_type": "code",
   "execution_count": null,
   "id": "7ccadcd9",
   "metadata": {},
   "outputs": [],
   "source": []
  }
 ],
 "metadata": {
  "kernelspec": {
   "display_name": "Python 3 (ipykernel)",
   "language": "python",
   "name": "python3"
  },
  "language_info": {
   "codemirror_mode": {
    "name": "ipython",
    "version": 3
   },
   "file_extension": ".py",
   "mimetype": "text/x-python",
   "name": "python",
   "nbconvert_exporter": "python",
   "pygments_lexer": "ipython3",
   "version": "3.10.9"
  }
 },
 "nbformat": 4,
 "nbformat_minor": 5
}
